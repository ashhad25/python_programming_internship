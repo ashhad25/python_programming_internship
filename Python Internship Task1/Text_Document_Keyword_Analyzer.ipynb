{
  "cells": [
    {
      "attachments": {},
      "cell_type": "markdown",
      "metadata": {
        "id": "13NCf0dptgNC"
      },
      "source": [
        "# **First Task Assigned By Mentor Of Python Programming Internship At Gexton Education**"
      ]
    },
    {
      "attachments": {},
      "cell_type": "markdown",
      "metadata": {
        "id": "hxB8eovOfD1m"
      },
      "source": [
        "# Question:\n",
        "- ***You have been assigned the task of developing a Python program to analyze a collection of text\n",
        "documents and extract keywords. The program should take a folder path as input and process all the text\n",
        "files within that folder. Your program should extract the most frequently occurring words and display the\n",
        "top 10 keywords along with their frequency count***"
      ]
    },
    {
      "attachments": {},
      "cell_type": "markdown",
      "metadata": {},
      "source": [
        "- for the above to work you need to install the gensim library using the below command"
      ]
    },
    {
      "cell_type": "code",
      "execution_count": 3,
      "metadata": {},
      "outputs": [],
      "source": [
        "#pip install -U gensim"
      ]
    },
    {
      "cell_type": "code",
      "execution_count": 6,
      "metadata": {
        "colab": {
          "base_uri": "https://localhost:8080/"
        },
        "id": "s57gYNlys0Yl",
        "outputId": "41d4709e-5a0b-4cae-f6b7-3d68b0c42508"
      },
      "outputs": [
        {
          "name": "stdout",
          "output_type": "stream",
          "text": [
            "--------------------------------------------\n",
            "Top 10 Keywords:\n",
            "--------------------------------------------\n",
            "mileageageyrssell: 1\n",
            "pricename: 1\n",
            "69000618000honda: 1\n",
            "35000334000suzuki: 1\n",
            "57000526100kia: 1\n",
            "22500240000mg: 1\n",
            "46000431500hyundai: 1\n",
            "59000526750changan: 1\n",
            "52000532000faw: 1\n",
            "72000619300audi: 1\n",
            "--------------------------------------------\n",
            "Top 10 Keywords:\n",
            "--------------------------------------------\n",
            "animals: 3\n",
            "china: 3\n",
            "different: 2\n",
            "kinds: 2\n",
            "live: 2\n",
            "tigers: 1\n",
            "leopards: 1\n",
            "chinas: 1\n",
            "forests: 1\n",
            "north: 1\n",
            "--------------------------------------------\n",
            "Top 10 Keywords:\n",
            "--------------------------------------------\n",
            "sed: 5\n",
            "tincidunt: 4\n",
            "non: 3\n",
            "odio: 3\n",
            "vitae: 3\n",
            "lorem: 2\n",
            "ipsum: 2\n",
            "sit: 2\n",
            "amet: 2\n",
            "consectetur: 2\n"
          ]
        }
      ],
      "source": [
        "import os\n",
        "import re\n",
        "from gensim.parsing.preprocessing import remove_stopwords\n",
        "from collections import Counter\n",
        "\n",
        "path = r\"C:\\Users\\stech\\OneDrive\\Desktop\\python_programming_internship\\Python Internship Task1\\testing files in this folder\" # Here Enter Any Desired Path\n",
        "\n",
        "os.chdir(path)\n",
        "\n",
        "def read_text_file(file_path):\n",
        "\twith open(file_path, 'r') as f:\n",
        "\t\ttext1 = re.sub(r'[^\\w\\s]', '', f.read().lower())\n",
        "\t\ttext2 = remove_stopwords(text1)\n",
        "\t\tword_counter(text2)\n",
        "\n",
        "\n",
        "def word_counter(text):\n",
        "\tcounts =  Counter(re.findall('\\w+', text))\n",
        "\tprint(\"--------------------------------------------\")\n",
        "\tprint(\"Top 10 Keywords:\")\n",
        "\tprint(\"--------------------------------------------\")\n",
        "\tfor word, count in counts.most_common(10):\n",
        "  \t\t\tprint(f\"{word}: {count}\")\n",
        "\n",
        "for file in os.listdir():\n",
        "\tif file.endswith(\".txt\"):\n",
        "\t\ttxt_file_path = f\"{path}/{file}\"\n",
        "\t\tread_text_file(txt_file_path)\n",
        "\n",
        "\n",
        "\telif file.endswith(\".csv\"):\n",
        "\t\ttxt_file_path = f\"{path}/{file}\"\n",
        "\t\tread_text_file(txt_file_path)"
      ]
    },
    {
      "attachments": {},
      "cell_type": "markdown",
      "metadata": {
        "id": "rO0atqU8_kPA"
      },
      "source": []
    }
  ],
  "metadata": {
    "colab": {
      "provenance": []
    },
    "kernelspec": {
      "display_name": "Python 3",
      "name": "python3"
    },
    "language_info": {
      "codemirror_mode": {
        "name": "ipython",
        "version": 3
      },
      "file_extension": ".py",
      "mimetype": "text/x-python",
      "name": "python",
      "nbconvert_exporter": "python",
      "pygments_lexer": "ipython3",
      "version": "3.11.1"
    }
  },
  "nbformat": 4,
  "nbformat_minor": 0
}
